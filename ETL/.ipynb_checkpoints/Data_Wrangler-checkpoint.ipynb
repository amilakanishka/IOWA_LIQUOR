{
 "cells": [
  {
   "cell_type": "code",
   "execution_count": 76,
   "metadata": {},
   "outputs": [],
   "source": [
    "\n",
    "import numpy as np\n"
   ]
  },
  {
   "cell_type": "code",
   "execution_count": 77,
   "metadata": {},
   "outputs": [],
   "source": [
    "dfcustomers = pd.read_csv('Data\\olist_customers_dataset.csv')\n",
    "dfgeolocation = pd.read_csv('Data\\olist_geolocation_dataset.csv')\n",
    "dforder_items = pd.read_csv('Data\\olist_order_items_dataset.csv')\n",
    "dforders = pd.read_csv('Data\\olist_orders_dataset.csv')\n",
    "dforder_payments = pd.read_csv('Data\\olist_order_payments_dataset.csv')\n",
    "dforder_reviews = pd.read_csv('Data\\olist_order_reviews_dataset.csv')\n",
    "dfproducts = pd.read_csv('Data\\olist_products_dataset.csv')\n",
    "dfsellers = pd.read_csv('Data\\olist_sellers_dataset.csv')\n",
    "dfproduct_category_name = pd.read_csv('Data\\product_category_name_translation.csv')"
   ]
  },
  {
   "cell_type": "code",
   "execution_count": 78,
   "metadata": {},
   "outputs": [],
   "source": [
    "dforder_items_prduct_cat =  dforder_items.merge(dfproducts, how='inner', left_on=[\"product_id\"], right_on=[\"product_id\"])\n",
    "dforder_items_prduct_cat = dforder_items_prduct_cat[['order_id','product_category_name']]"
   ]
  },
  {
   "cell_type": "code",
   "execution_count": 82,
   "metadata": {},
   "outputs": [],
   "source": [
    "dforders = dforders[['order_id','customer_id']]"
   ]
  },
  {
   "cell_type": "code",
   "execution_count": 83,
   "metadata": {},
   "outputs": [],
   "source": [
    "dforders_items = dforders.merge(dforder_items_prduct_cat, how='inner', left_on=[\"order_id\"], right_on=[\"order_id\"])\n",
    "# dforders_items = dforders_items[['customer_id','product_id']]"
   ]
  },
  {
   "cell_type": "code",
   "execution_count": 84,
   "metadata": {},
   "outputs": [],
   "source": [
    "# dforders_items_grouped = dforders_items.groupby(by=['customer_id','product_category_name']).count().reset_index()"
   ]
  },
  {
   "cell_type": "code",
   "execution_count": 85,
   "metadata": {},
   "outputs": [],
   "source": [
    "dforders_items = dforders_items[['customer_id','product_category_name']]"
   ]
  },
  {
   "cell_type": "code",
   "execution_count": 86,
   "metadata": {},
   "outputs": [],
   "source": [
    "data = pd.melt(dforders_items.set_index('customer_id')['product_category_name'].apply(pd.Series).reset_index(), \n",
    "             id_vars=['customer_id'],\n",
    "             value_name='product_category_name') \\\n",
    "    .dropna().drop(['variable'], axis=1) \\\n",
    "    .groupby(['customer_id', 'product_category_name']) \\\n",
    "    .agg({'product_category_name': 'count'}) \\\n",
    "    .rename(columns={'product_category_name': 'purchase_count'}) \\\n",
    "    .reset_index()"
   ]
  },
  {
   "cell_type": "code",
   "execution_count": 88,
   "metadata": {},
   "outputs": [],
   "source": [
    "df_matrix = pd.pivot_table(data, values='purchase_count', index='customer_id', columns='product_category_name')"
   ]
  },
  {
   "cell_type": "code",
   "execution_count": 89,
   "metadata": {},
   "outputs": [],
   "source": [
    "df_matrix_norm = (df_matrix-df_matrix.min())/(df_matrix.max()-df_matrix.min())"
   ]
  },
  {
   "cell_type": "code",
   "execution_count": 90,
   "metadata": {},
   "outputs": [
    {
     "name": "stdout",
     "output_type": "stream",
     "text": [
      "(97933, 3)\n"
     ]
    },
    {
     "data": {
      "text/html": [
       "<div>\n",
       "<style scoped>\n",
       "    .dataframe tbody tr th:only-of-type {\n",
       "        vertical-align: middle;\n",
       "    }\n",
       "\n",
       "    .dataframe tbody tr th {\n",
       "        vertical-align: top;\n",
       "    }\n",
       "\n",
       "    .dataframe thead th {\n",
       "        text-align: right;\n",
       "    }\n",
       "</style>\n",
       "<table border=\"1\" class=\"dataframe\">\n",
       "  <thead>\n",
       "    <tr style=\"text-align: right;\">\n",
       "      <th></th>\n",
       "      <th>customer_id</th>\n",
       "      <th>product_category_name</th>\n",
       "      <th>scaled_purchase_freq</th>\n",
       "    </tr>\n",
       "  </thead>\n",
       "  <tbody>\n",
       "    <tr>\n",
       "      <th>170</th>\n",
       "      <td>0074a15febc9459ab2f999ea0e22c8d6</td>\n",
       "      <td>agro_industria_e_comercio</td>\n",
       "      <td>0.0</td>\n",
       "    </tr>\n",
       "    <tr>\n",
       "      <th>398</th>\n",
       "      <td>01122215dd21ac872ae567ec4e351e01</td>\n",
       "      <td>agro_industria_e_comercio</td>\n",
       "      <td>0.0</td>\n",
       "    </tr>\n",
       "    <tr>\n",
       "      <th>677</th>\n",
       "      <td>01c79a7d3c3d25b655514206df838701</td>\n",
       "      <td>agro_industria_e_comercio</td>\n",
       "      <td>0.0</td>\n",
       "    </tr>\n",
       "    <tr>\n",
       "      <th>1862</th>\n",
       "      <td>04d5cb41e92cebd0f1051d38c10f5ec4</td>\n",
       "      <td>agro_industria_e_comercio</td>\n",
       "      <td>0.0</td>\n",
       "    </tr>\n",
       "    <tr>\n",
       "      <th>2023</th>\n",
       "      <td>05455dfa7cd02f13d132aa7a6a9729c6</td>\n",
       "      <td>agro_industria_e_comercio</td>\n",
       "      <td>1.0</td>\n",
       "    </tr>\n",
       "  </tbody>\n",
       "</table>\n",
       "</div>"
      ],
      "text/plain": [
       "                           customer_id      product_category_name  \\\n",
       "170   0074a15febc9459ab2f999ea0e22c8d6  agro_industria_e_comercio   \n",
       "398   01122215dd21ac872ae567ec4e351e01  agro_industria_e_comercio   \n",
       "677   01c79a7d3c3d25b655514206df838701  agro_industria_e_comercio   \n",
       "1862  04d5cb41e92cebd0f1051d38c10f5ec4  agro_industria_e_comercio   \n",
       "2023  05455dfa7cd02f13d132aa7a6a9729c6  agro_industria_e_comercio   \n",
       "\n",
       "      scaled_purchase_freq  \n",
       "170                    0.0  \n",
       "398                    0.0  \n",
       "677                    0.0  \n",
       "1862                   0.0  \n",
       "2023                   1.0  "
      ]
     },
     "execution_count": 90,
     "metadata": {},
     "output_type": "execute_result"
    }
   ],
   "source": [
    "d = df_matrix_norm.reset_index() \n",
    "d.index.names = ['scaled_purchase_freq'] \n",
    "data_norm = pd.melt(d, id_vars=['customer_id'], value_name='scaled_purchase_freq').dropna()\n",
    "print(data_norm.shape)\n",
    "data_norm.head()"
   ]
  },
  {
   "cell_type": "code",
   "execution_count": 91,
   "metadata": {},
   "outputs": [],
   "source": [
    "# def normalize_data(data):\n",
    "#     df_matrix = pd.pivot_table(data, values='purchase_count', index='customer_id', columns='product_category_name')\n",
    "#     df_matrix_norm = (df_matrix-df_matrix.min())/(df_matrix.max()-df_matrix.min())\n",
    "#     d = df_matrix_norm.reset_index()\n",
    "#     d.index.names = ['scaled_purchase_freq']\n",
    "#     return pd.melt(d, id_vars=['customer_id'], value_name='scaled_purchase_freq').dropna()"
   ]
  },
  {
   "cell_type": "code",
   "execution_count": null,
   "metadata": {},
   "outputs": [],
   "source": []
  }
 ],
 "metadata": {
  "kernelspec": {
   "display_name": "Python 3",
   "language": "python",
   "name": "python3"
  },
  "language_info": {
   "codemirror_mode": {
    "name": "ipython",
    "version": 3
   },
   "file_extension": ".py",
   "mimetype": "text/x-python",
   "name": "python",
   "nbconvert_exporter": "python",
   "pygments_lexer": "ipython3",
   "version": "3.6.10"
  }
 },
 "nbformat": 4,
 "nbformat_minor": 4
}
